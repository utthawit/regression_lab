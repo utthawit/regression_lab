{
 "cells": [
  {
   "cell_type": "markdown",
   "metadata": {},
   "source": [
    "<img src=\"http://imgur.com/1ZcRyrc.png\" style=\"float: left; margin: 20px; height: 55px\">\n",
    "\n",
    "# Simple Linear Regression with Sacramento Real Estate Data\n",
    "\n",
    "---\n",
    "\n",
    "In this lab, you will hone your exploratory data analysis (EDA) skills and practice constructing linear regressions on a data set of Sacramento real estate sales.  The data set contains information on qualities of the property, location of the property, and time of sale."
   ]
  },
  {
   "cell_type": "markdown",
   "metadata": {},
   "source": [
    "### 1. Read in the Sacramento housing data set.\n",
    "\n",
    "The file is stored in the `datasets` subfolder."
   ]
  },
  {
   "cell_type": "code",
   "execution_count": 3,
   "metadata": {},
   "outputs": [],
   "source": [
    "# Standard imports\n",
    "import numpy as np\n",
    "import pandas as pd\n",
    "import matplotlib.pyplot as plt\n",
    "import seaborn as sns\n",
    "\n",
    "# Modeling imports\n",
    "from sklearn.linear_model import LinearRegression\n",
    "from sklearn import metrics"
   ]
  },
  {
   "cell_type": "code",
   "execution_count": 4,
   "metadata": {},
   "outputs": [],
   "source": [
    "trans_df = pd.read_csv('datasets/sacramento_real_estate_transactions.csv')"
   ]
  },
  {
   "cell_type": "markdown",
   "metadata": {},
   "source": [
    "### 2. Conduct exploratory data analysis on this data set. \n",
    "\n",
    "If you discover any issues with the data, fix them to the best of your ability. **Report any notable findings.**\n",
    "\n",
    "_**Note:** Zip codes often have leading zeros — e.g., 02215 = Boston, MA — which will often get knocked off automatically by many software programs like Python or Excel._"
   ]
  },
  {
   "cell_type": "code",
   "execution_count": 6,
   "metadata": {},
   "outputs": [
    {
     "data": {
      "text/html": [
       "<div>\n",
       "<style scoped>\n",
       "    .dataframe tbody tr th:only-of-type {\n",
       "        vertical-align: middle;\n",
       "    }\n",
       "\n",
       "    .dataframe tbody tr th {\n",
       "        vertical-align: top;\n",
       "    }\n",
       "\n",
       "    .dataframe thead th {\n",
       "        text-align: right;\n",
       "    }\n",
       "</style>\n",
       "<table border=\"1\" class=\"dataframe\">\n",
       "  <thead>\n",
       "    <tr style=\"text-align: right;\">\n",
       "      <th></th>\n",
       "      <th>street</th>\n",
       "      <th>city</th>\n",
       "      <th>zip</th>\n",
       "      <th>state</th>\n",
       "      <th>beds</th>\n",
       "      <th>baths</th>\n",
       "      <th>sq__ft</th>\n",
       "      <th>type</th>\n",
       "      <th>sale_date</th>\n",
       "      <th>price</th>\n",
       "      <th>latitude</th>\n",
       "      <th>longitude</th>\n",
       "    </tr>\n",
       "  </thead>\n",
       "  <tbody>\n",
       "    <tr>\n",
       "      <th>0</th>\n",
       "      <td>3526 HIGH ST</td>\n",
       "      <td>SACRAMENTO</td>\n",
       "      <td>95838</td>\n",
       "      <td>CA</td>\n",
       "      <td>2</td>\n",
       "      <td>1</td>\n",
       "      <td>836</td>\n",
       "      <td>Residential</td>\n",
       "      <td>Wed May 21 00:00:00 EDT 2008</td>\n",
       "      <td>59222</td>\n",
       "      <td>38.631913</td>\n",
       "      <td>-121.434879</td>\n",
       "    </tr>\n",
       "    <tr>\n",
       "      <th>1</th>\n",
       "      <td>51 OMAHA CT</td>\n",
       "      <td>SACRAMENTO</td>\n",
       "      <td>95823</td>\n",
       "      <td>CA</td>\n",
       "      <td>3</td>\n",
       "      <td>1</td>\n",
       "      <td>1167</td>\n",
       "      <td>Residential</td>\n",
       "      <td>Wed May 21 00:00:00 EDT 2008</td>\n",
       "      <td>68212</td>\n",
       "      <td>38.478902</td>\n",
       "      <td>-121.431028</td>\n",
       "    </tr>\n",
       "    <tr>\n",
       "      <th>2</th>\n",
       "      <td>2796 BRANCH ST</td>\n",
       "      <td>SACRAMENTO</td>\n",
       "      <td>95815</td>\n",
       "      <td>CA</td>\n",
       "      <td>2</td>\n",
       "      <td>1</td>\n",
       "      <td>796</td>\n",
       "      <td>Residential</td>\n",
       "      <td>Wed May 21 00:00:00 EDT 2008</td>\n",
       "      <td>68880</td>\n",
       "      <td>38.618305</td>\n",
       "      <td>-121.443839</td>\n",
       "    </tr>\n",
       "    <tr>\n",
       "      <th>3</th>\n",
       "      <td>2805 JANETTE WAY</td>\n",
       "      <td>SACRAMENTO</td>\n",
       "      <td>95815</td>\n",
       "      <td>CA</td>\n",
       "      <td>2</td>\n",
       "      <td>1</td>\n",
       "      <td>852</td>\n",
       "      <td>Residential</td>\n",
       "      <td>Wed May 21 00:00:00 EDT 2008</td>\n",
       "      <td>69307</td>\n",
       "      <td>38.616835</td>\n",
       "      <td>-121.439146</td>\n",
       "    </tr>\n",
       "    <tr>\n",
       "      <th>4</th>\n",
       "      <td>6001 MCMAHON DR</td>\n",
       "      <td>SACRAMENTO</td>\n",
       "      <td>95824</td>\n",
       "      <td>CA</td>\n",
       "      <td>2</td>\n",
       "      <td>1</td>\n",
       "      <td>797</td>\n",
       "      <td>Residential</td>\n",
       "      <td>Wed May 21 00:00:00 EDT 2008</td>\n",
       "      <td>81900</td>\n",
       "      <td>38.519470</td>\n",
       "      <td>-121.435768</td>\n",
       "    </tr>\n",
       "  </tbody>\n",
       "</table>\n",
       "</div>"
      ],
      "text/plain": [
       "             street        city    zip state  beds  baths  sq__ft  \\\n",
       "0      3526 HIGH ST  SACRAMENTO  95838    CA     2      1     836   \n",
       "1       51 OMAHA CT  SACRAMENTO  95823    CA     3      1    1167   \n",
       "2    2796 BRANCH ST  SACRAMENTO  95815    CA     2      1     796   \n",
       "3  2805 JANETTE WAY  SACRAMENTO  95815    CA     2      1     852   \n",
       "4   6001 MCMAHON DR  SACRAMENTO  95824    CA     2      1     797   \n",
       "\n",
       "          type                     sale_date  price   latitude   longitude  \n",
       "0  Residential  Wed May 21 00:00:00 EDT 2008  59222  38.631913 -121.434879  \n",
       "1  Residential  Wed May 21 00:00:00 EDT 2008  68212  38.478902 -121.431028  \n",
       "2  Residential  Wed May 21 00:00:00 EDT 2008  68880  38.618305 -121.443839  \n",
       "3  Residential  Wed May 21 00:00:00 EDT 2008  69307  38.616835 -121.439146  \n",
       "4  Residential  Wed May 21 00:00:00 EDT 2008  81900  38.519470 -121.435768  "
      ]
     },
     "execution_count": 6,
     "metadata": {},
     "output_type": "execute_result"
    }
   ],
   "source": [
    "# review data\n",
    "trans_df.head()"
   ]
  },
  {
   "cell_type": "code",
   "execution_count": 7,
   "metadata": {},
   "outputs": [
    {
     "data": {
      "text/plain": [
       "street       0\n",
       "city         0\n",
       "zip          0\n",
       "state        0\n",
       "beds         0\n",
       "baths        0\n",
       "sq__ft       0\n",
       "type         0\n",
       "sale_date    0\n",
       "price        0\n",
       "latitude     0\n",
       "longitude    0\n",
       "dtype: int64"
      ]
     },
     "execution_count": 7,
     "metadata": {},
     "output_type": "execute_result"
    }
   ],
   "source": [
    "# checking null cell\n",
    "trans_df.isnull().sum()"
   ]
  },
  {
   "cell_type": "code",
   "execution_count": 8,
   "metadata": {},
   "outputs": [
    {
     "data": {
      "text/plain": [
       "street        object\n",
       "city          object\n",
       "zip            int64\n",
       "state         object\n",
       "beds           int64\n",
       "baths          int64\n",
       "sq__ft         int64\n",
       "type          object\n",
       "sale_date     object\n",
       "price          int64\n",
       "latitude     float64\n",
       "longitude    float64\n",
       "dtype: object"
      ]
     },
     "execution_count": 8,
     "metadata": {},
     "output_type": "execute_result"
    }
   ],
   "source": [
    "# review datatype\n",
    "trans_df.dtypes"
   ]
  },
  {
   "cell_type": "code",
   "execution_count": 9,
   "metadata": {},
   "outputs": [
    {
     "data": {
      "text/plain": [
       "array(['Residential', 'Condo', 'Multi-Family', 'Unkown'], dtype=object)"
      ]
     },
     "execution_count": 9,
     "metadata": {},
     "output_type": "execute_result"
    }
   ],
   "source": [
    "trans_df['type'].unique()"
   ]
  },
  {
   "cell_type": "code",
   "execution_count": 10,
   "metadata": {},
   "outputs": [],
   "source": [
    "# replace typo type 'Unkown' to 'Unknown'\n",
    "trans_df['type'] = trans_df['type'].replace('Unkown', 'Unknown')"
   ]
  },
  {
   "cell_type": "code",
   "execution_count": 11,
   "metadata": {},
   "outputs": [
    {
     "data": {
      "text/plain": [
       "array(['Residential', 'Condo', 'Multi-Family', 'Unknown'], dtype=object)"
      ]
     },
     "execution_count": 11,
     "metadata": {},
     "output_type": "execute_result"
    }
   ],
   "source": [
    "trans_df['type'].unique()"
   ]
  },
  {
   "cell_type": "code",
   "execution_count": 12,
   "metadata": {},
   "outputs": [
    {
     "data": {
      "text/plain": [
       "(985, 12)"
      ]
     },
     "execution_count": 12,
     "metadata": {},
     "output_type": "execute_result"
    }
   ],
   "source": [
    "# review DataFrame shape\n",
    "trans_df.shape"
   ]
  },
  {
   "cell_type": "code",
   "execution_count": 13,
   "metadata": {},
   "outputs": [
    {
     "data": {
      "text/html": [
       "<div>\n",
       "<style scoped>\n",
       "    .dataframe tbody tr th:only-of-type {\n",
       "        vertical-align: middle;\n",
       "    }\n",
       "\n",
       "    .dataframe tbody tr th {\n",
       "        vertical-align: top;\n",
       "    }\n",
       "\n",
       "    .dataframe thead th {\n",
       "        text-align: right;\n",
       "    }\n",
       "</style>\n",
       "<table border=\"1\" class=\"dataframe\">\n",
       "  <thead>\n",
       "    <tr style=\"text-align: right;\">\n",
       "      <th></th>\n",
       "      <th>zip</th>\n",
       "      <th>beds</th>\n",
       "      <th>baths</th>\n",
       "      <th>sq__ft</th>\n",
       "      <th>price</th>\n",
       "      <th>latitude</th>\n",
       "      <th>longitude</th>\n",
       "    </tr>\n",
       "  </thead>\n",
       "  <tbody>\n",
       "    <tr>\n",
       "      <th>count</th>\n",
       "      <td>985.000000</td>\n",
       "      <td>985.000000</td>\n",
       "      <td>985.000000</td>\n",
       "      <td>985.000000</td>\n",
       "      <td>985.000000</td>\n",
       "      <td>985.000000</td>\n",
       "      <td>985.000000</td>\n",
       "    </tr>\n",
       "    <tr>\n",
       "      <th>mean</th>\n",
       "      <td>95750.697462</td>\n",
       "      <td>2.911675</td>\n",
       "      <td>1.776650</td>\n",
       "      <td>1312.918782</td>\n",
       "      <td>233715.951269</td>\n",
       "      <td>38.445121</td>\n",
       "      <td>-121.193371</td>\n",
       "    </tr>\n",
       "    <tr>\n",
       "      <th>std</th>\n",
       "      <td>85.176072</td>\n",
       "      <td>1.307932</td>\n",
       "      <td>0.895371</td>\n",
       "      <td>856.123224</td>\n",
       "      <td>139088.818896</td>\n",
       "      <td>5.103637</td>\n",
       "      <td>5.100670</td>\n",
       "    </tr>\n",
       "    <tr>\n",
       "      <th>min</th>\n",
       "      <td>95603.000000</td>\n",
       "      <td>0.000000</td>\n",
       "      <td>0.000000</td>\n",
       "      <td>-984.000000</td>\n",
       "      <td>-210944.000000</td>\n",
       "      <td>-121.503471</td>\n",
       "      <td>-121.551704</td>\n",
       "    </tr>\n",
       "    <tr>\n",
       "      <th>25%</th>\n",
       "      <td>95660.000000</td>\n",
       "      <td>2.000000</td>\n",
       "      <td>1.000000</td>\n",
       "      <td>950.000000</td>\n",
       "      <td>145000.000000</td>\n",
       "      <td>38.482704</td>\n",
       "      <td>-121.446119</td>\n",
       "    </tr>\n",
       "    <tr>\n",
       "      <th>50%</th>\n",
       "      <td>95762.000000</td>\n",
       "      <td>3.000000</td>\n",
       "      <td>2.000000</td>\n",
       "      <td>1304.000000</td>\n",
       "      <td>213750.000000</td>\n",
       "      <td>38.625932</td>\n",
       "      <td>-121.375799</td>\n",
       "    </tr>\n",
       "    <tr>\n",
       "      <th>75%</th>\n",
       "      <td>95828.000000</td>\n",
       "      <td>4.000000</td>\n",
       "      <td>2.000000</td>\n",
       "      <td>1718.000000</td>\n",
       "      <td>300000.000000</td>\n",
       "      <td>38.695589</td>\n",
       "      <td>-121.294893</td>\n",
       "    </tr>\n",
       "    <tr>\n",
       "      <th>max</th>\n",
       "      <td>95864.000000</td>\n",
       "      <td>8.000000</td>\n",
       "      <td>5.000000</td>\n",
       "      <td>5822.000000</td>\n",
       "      <td>884790.000000</td>\n",
       "      <td>39.020808</td>\n",
       "      <td>38.668433</td>\n",
       "    </tr>\n",
       "  </tbody>\n",
       "</table>\n",
       "</div>"
      ],
      "text/plain": [
       "                zip        beds       baths       sq__ft          price  \\\n",
       "count    985.000000  985.000000  985.000000   985.000000     985.000000   \n",
       "mean   95750.697462    2.911675    1.776650  1312.918782  233715.951269   \n",
       "std       85.176072    1.307932    0.895371   856.123224  139088.818896   \n",
       "min    95603.000000    0.000000    0.000000  -984.000000 -210944.000000   \n",
       "25%    95660.000000    2.000000    1.000000   950.000000  145000.000000   \n",
       "50%    95762.000000    3.000000    2.000000  1304.000000  213750.000000   \n",
       "75%    95828.000000    4.000000    2.000000  1718.000000  300000.000000   \n",
       "max    95864.000000    8.000000    5.000000  5822.000000  884790.000000   \n",
       "\n",
       "         latitude   longitude  \n",
       "count  985.000000  985.000000  \n",
       "mean    38.445121 -121.193371  \n",
       "std      5.103637    5.100670  \n",
       "min   -121.503471 -121.551704  \n",
       "25%     38.482704 -121.446119  \n",
       "50%     38.625932 -121.375799  \n",
       "75%     38.695589 -121.294893  \n",
       "max     39.020808   38.668433  "
      ]
     },
     "execution_count": 13,
     "metadata": {},
     "output_type": "execute_result"
    }
   ],
   "source": [
    "# review number columns\n",
    "trans_df.describe()"
   ]
  },
  {
   "cell_type": "markdown",
   "metadata": {},
   "source": [
    "### Finding potential invalid data"
   ]
  },
  {
   "cell_type": "markdown",
   "metadata": {},
   "source": [
    "#### zero bed room"
   ]
  },
  {
   "cell_type": "code",
   "execution_count": 16,
   "metadata": {},
   "outputs": [
    {
     "name": "stdout",
     "output_type": "stream",
     "text": [
      "Percentage of housing without bed room: 10.96\n"
     ]
    }
   ],
   "source": [
    "# Calculate percentage without bed room\n",
    "print(f\"Percentage of housing without bed room: {trans_df[trans_df['beds'] < 1].shape[0] / trans_df.shape[0] * 100:.2f}\")"
   ]
  },
  {
   "cell_type": "markdown",
   "metadata": {},
   "source": [
    "#### zero bath room"
   ]
  },
  {
   "cell_type": "code",
   "execution_count": 18,
   "metadata": {},
   "outputs": [
    {
     "name": "stdout",
     "output_type": "stream",
     "text": [
      "Percentage of housing without bed room: 10.96\n"
     ]
    }
   ],
   "source": [
    "# Calculate percentage without bath room\n",
    "print(f\"Percentage of housing without bed room: {trans_df[trans_df['baths'] < 1].shape[0] / trans_df.shape[0] * 100:.2f}\")"
   ]
  },
  {
   "cell_type": "code",
   "execution_count": 19,
   "metadata": {},
   "outputs": [],
   "source": [
    "# We need to predict price with theses variables, so we need filter and assign to new variables\n",
    "trans_df['has_beds'] = np.where(trans_df['beds'] > 0, 1, 0)\n",
    "trans_df['has_baths'] = np.where(trans_df['baths'] > 0, 1, 0)"
   ]
  },
  {
   "cell_type": "markdown",
   "metadata": {},
   "source": [
    "#### Invalid sq__ft"
   ]
  },
  {
   "cell_type": "code",
   "execution_count": 21,
   "metadata": {},
   "outputs": [
    {
     "data": {
      "text/html": [
       "<div>\n",
       "<style scoped>\n",
       "    .dataframe tbody tr th:only-of-type {\n",
       "        vertical-align: middle;\n",
       "    }\n",
       "\n",
       "    .dataframe tbody tr th {\n",
       "        vertical-align: top;\n",
       "    }\n",
       "\n",
       "    .dataframe thead th {\n",
       "        text-align: right;\n",
       "    }\n",
       "</style>\n",
       "<table border=\"1\" class=\"dataframe\">\n",
       "  <thead>\n",
       "    <tr style=\"text-align: right;\">\n",
       "      <th></th>\n",
       "      <th>street</th>\n",
       "      <th>city</th>\n",
       "      <th>zip</th>\n",
       "      <th>state</th>\n",
       "      <th>beds</th>\n",
       "      <th>baths</th>\n",
       "      <th>sq__ft</th>\n",
       "      <th>type</th>\n",
       "      <th>sale_date</th>\n",
       "      <th>price</th>\n",
       "      <th>latitude</th>\n",
       "      <th>longitude</th>\n",
       "      <th>has_beds</th>\n",
       "      <th>has_baths</th>\n",
       "    </tr>\n",
       "  </thead>\n",
       "  <tbody>\n",
       "    <tr>\n",
       "      <th>703</th>\n",
       "      <td>1900 DANBROOK DR</td>\n",
       "      <td>SACRAMENTO</td>\n",
       "      <td>95835</td>\n",
       "      <td>AC</td>\n",
       "      <td>1</td>\n",
       "      <td>1</td>\n",
       "      <td>-984</td>\n",
       "      <td>Condo</td>\n",
       "      <td>Fri May 16 00:00:00 EDT 2008</td>\n",
       "      <td>-210944</td>\n",
       "      <td>-121.503471</td>\n",
       "      <td>38.668433</td>\n",
       "      <td>1</td>\n",
       "      <td>1</td>\n",
       "    </tr>\n",
       "    <tr>\n",
       "      <th>73</th>\n",
       "      <td>17 SERASPI CT</td>\n",
       "      <td>SACRAMENTO</td>\n",
       "      <td>95834</td>\n",
       "      <td>CA</td>\n",
       "      <td>0</td>\n",
       "      <td>0</td>\n",
       "      <td>0</td>\n",
       "      <td>Residential</td>\n",
       "      <td>Wed May 21 00:00:00 EDT 2008</td>\n",
       "      <td>206000</td>\n",
       "      <td>38.631481</td>\n",
       "      <td>-121.501880</td>\n",
       "      <td>0</td>\n",
       "      <td>0</td>\n",
       "    </tr>\n",
       "    <tr>\n",
       "      <th>599</th>\n",
       "      <td>15 CRYSTALWOOD CIR</td>\n",
       "      <td>LINCOLN</td>\n",
       "      <td>95648</td>\n",
       "      <td>CA</td>\n",
       "      <td>0</td>\n",
       "      <td>0</td>\n",
       "      <td>0</td>\n",
       "      <td>Residential</td>\n",
       "      <td>Mon May 19 00:00:00 EDT 2008</td>\n",
       "      <td>4897</td>\n",
       "      <td>38.885571</td>\n",
       "      <td>-121.289421</td>\n",
       "      <td>0</td>\n",
       "      <td>0</td>\n",
       "    </tr>\n",
       "    <tr>\n",
       "      <th>600</th>\n",
       "      <td>7 CRYSTALWOOD CIR</td>\n",
       "      <td>LINCOLN</td>\n",
       "      <td>95648</td>\n",
       "      <td>CA</td>\n",
       "      <td>0</td>\n",
       "      <td>0</td>\n",
       "      <td>0</td>\n",
       "      <td>Residential</td>\n",
       "      <td>Mon May 19 00:00:00 EDT 2008</td>\n",
       "      <td>4897</td>\n",
       "      <td>38.885962</td>\n",
       "      <td>-121.289436</td>\n",
       "      <td>0</td>\n",
       "      <td>0</td>\n",
       "    </tr>\n",
       "    <tr>\n",
       "      <th>601</th>\n",
       "      <td>7 CRYSTALWOOD CIR</td>\n",
       "      <td>LINCOLN</td>\n",
       "      <td>95648</td>\n",
       "      <td>CA</td>\n",
       "      <td>0</td>\n",
       "      <td>0</td>\n",
       "      <td>0</td>\n",
       "      <td>Residential</td>\n",
       "      <td>Mon May 19 00:00:00 EDT 2008</td>\n",
       "      <td>4897</td>\n",
       "      <td>38.885962</td>\n",
       "      <td>-121.289436</td>\n",
       "      <td>0</td>\n",
       "      <td>0</td>\n",
       "    </tr>\n",
       "  </tbody>\n",
       "</table>\n",
       "</div>"
      ],
      "text/plain": [
       "                 street        city    zip state  beds  baths  sq__ft  \\\n",
       "703    1900 DANBROOK DR  SACRAMENTO  95835    AC     1      1    -984   \n",
       "73        17 SERASPI CT  SACRAMENTO  95834    CA     0      0       0   \n",
       "599  15 CRYSTALWOOD CIR     LINCOLN  95648    CA     0      0       0   \n",
       "600   7 CRYSTALWOOD CIR     LINCOLN  95648    CA     0      0       0   \n",
       "601   7 CRYSTALWOOD CIR     LINCOLN  95648    CA     0      0       0   \n",
       "\n",
       "            type                     sale_date   price    latitude  \\\n",
       "703        Condo  Fri May 16 00:00:00 EDT 2008 -210944 -121.503471   \n",
       "73   Residential  Wed May 21 00:00:00 EDT 2008  206000   38.631481   \n",
       "599  Residential  Mon May 19 00:00:00 EDT 2008    4897   38.885571   \n",
       "600  Residential  Mon May 19 00:00:00 EDT 2008    4897   38.885962   \n",
       "601  Residential  Mon May 19 00:00:00 EDT 2008    4897   38.885962   \n",
       "\n",
       "      longitude  has_beds  has_baths  \n",
       "703   38.668433         1          1  \n",
       "73  -121.501880         0          0  \n",
       "599 -121.289421         0          0  \n",
       "600 -121.289436         0          0  \n",
       "601 -121.289436         0          0  "
      ]
     },
     "execution_count": 21,
     "metadata": {},
     "output_type": "execute_result"
    }
   ],
   "source": [
    "# query invalid sq__ft\n",
    "trans_df[trans_df['sq__ft'] < 1].sort_values(by='sq__ft').head()"
   ]
  },
  {
   "cell_type": "code",
   "execution_count": 22,
   "metadata": {},
   "outputs": [],
   "source": [
    "# leave zero sq__ft as is\n",
    "# manual fix negative sq__ft\n",
    "trans_df.loc[703, 'sq__ft'] = 984"
   ]
  },
  {
   "cell_type": "code",
   "execution_count": 23,
   "metadata": {},
   "outputs": [
    {
     "data": {
      "text/plain": [
       "(171, 14)"
      ]
     },
     "execution_count": 23,
     "metadata": {},
     "output_type": "execute_result"
    }
   ],
   "source": [
    "trans_df[trans_df['sq__ft'] < 1].shape"
   ]
  },
  {
   "cell_type": "markdown",
   "metadata": {},
   "source": [
    "#### Invalid coordinate"
   ]
  },
  {
   "cell_type": "code",
   "execution_count": 25,
   "metadata": {},
   "outputs": [
    {
     "data": {
      "text/html": [
       "<div>\n",
       "<style scoped>\n",
       "    .dataframe tbody tr th:only-of-type {\n",
       "        vertical-align: middle;\n",
       "    }\n",
       "\n",
       "    .dataframe tbody tr th {\n",
       "        vertical-align: top;\n",
       "    }\n",
       "\n",
       "    .dataframe thead th {\n",
       "        text-align: right;\n",
       "    }\n",
       "</style>\n",
       "<table border=\"1\" class=\"dataframe\">\n",
       "  <thead>\n",
       "    <tr style=\"text-align: right;\">\n",
       "      <th></th>\n",
       "      <th>street</th>\n",
       "      <th>city</th>\n",
       "      <th>zip</th>\n",
       "      <th>state</th>\n",
       "      <th>beds</th>\n",
       "      <th>baths</th>\n",
       "      <th>sq__ft</th>\n",
       "      <th>type</th>\n",
       "      <th>sale_date</th>\n",
       "      <th>price</th>\n",
       "      <th>latitude</th>\n",
       "      <th>longitude</th>\n",
       "      <th>has_beds</th>\n",
       "      <th>has_baths</th>\n",
       "    </tr>\n",
       "  </thead>\n",
       "  <tbody>\n",
       "    <tr>\n",
       "      <th>703</th>\n",
       "      <td>1900 DANBROOK DR</td>\n",
       "      <td>SACRAMENTO</td>\n",
       "      <td>95835</td>\n",
       "      <td>AC</td>\n",
       "      <td>1</td>\n",
       "      <td>1</td>\n",
       "      <td>984</td>\n",
       "      <td>Condo</td>\n",
       "      <td>Fri May 16 00:00:00 EDT 2008</td>\n",
       "      <td>-210944</td>\n",
       "      <td>-121.503471</td>\n",
       "      <td>38.668433</td>\n",
       "      <td>1</td>\n",
       "      <td>1</td>\n",
       "    </tr>\n",
       "  </tbody>\n",
       "</table>\n",
       "</div>"
      ],
      "text/plain": [
       "               street        city    zip state  beds  baths  sq__ft   type  \\\n",
       "703  1900 DANBROOK DR  SACRAMENTO  95835    AC     1      1     984  Condo   \n",
       "\n",
       "                        sale_date   price    latitude  longitude  has_beds  \\\n",
       "703  Fri May 16 00:00:00 EDT 2008 -210944 -121.503471  38.668433         1   \n",
       "\n",
       "     has_baths  \n",
       "703          1  "
      ]
     },
     "execution_count": 25,
     "metadata": {},
     "output_type": "execute_result"
    }
   ],
   "source": [
    "# filter invalid latitude and longitude\n",
    "trans_df[(trans_df['latitude'] < 37) | (trans_df['latitude'] > 40) | \\\n",
    "(trans_df['longitude'] < -122) | (trans_df['longitude'] > -120)]"
   ]
  },
  {
   "cell_type": "code",
   "execution_count": 26,
   "metadata": {},
   "outputs": [
    {
     "data": {
      "text/plain": [
       "street                   1900 DANBROOK DR\n",
       "city                           SACRAMENTO\n",
       "zip                                 95835\n",
       "state                                  AC\n",
       "beds                                    1\n",
       "baths                                   1\n",
       "sq__ft                                984\n",
       "type                                Condo\n",
       "sale_date    Fri May 16 00:00:00 EDT 2008\n",
       "price                             -210944\n",
       "latitude                        38.668433\n",
       "longitude                     -121.503471\n",
       "has_beds                                1\n",
       "has_baths                               1\n",
       "Name: 703, dtype: object"
      ]
     },
     "execution_count": 26,
     "metadata": {},
     "output_type": "execute_result"
    }
   ],
   "source": [
    "# found only 1 row, manual fix\n",
    "trans_df.loc[703, 'latitude'] = 38.668433\n",
    "trans_df.loc[703, 'longitude'] = -121.503471\n",
    "# review corrected row\n",
    "trans_df.loc[703]"
   ]
  },
  {
   "cell_type": "markdown",
   "metadata": {},
   "source": [
    "#### Negative price"
   ]
  },
  {
   "cell_type": "code",
   "execution_count": 28,
   "metadata": {},
   "outputs": [
    {
     "data": {
      "text/html": [
       "<div>\n",
       "<style scoped>\n",
       "    .dataframe tbody tr th:only-of-type {\n",
       "        vertical-align: middle;\n",
       "    }\n",
       "\n",
       "    .dataframe tbody tr th {\n",
       "        vertical-align: top;\n",
       "    }\n",
       "\n",
       "    .dataframe thead th {\n",
       "        text-align: right;\n",
       "    }\n",
       "</style>\n",
       "<table border=\"1\" class=\"dataframe\">\n",
       "  <thead>\n",
       "    <tr style=\"text-align: right;\">\n",
       "      <th></th>\n",
       "      <th>street</th>\n",
       "      <th>city</th>\n",
       "      <th>zip</th>\n",
       "      <th>state</th>\n",
       "      <th>beds</th>\n",
       "      <th>baths</th>\n",
       "      <th>sq__ft</th>\n",
       "      <th>type</th>\n",
       "      <th>sale_date</th>\n",
       "      <th>price</th>\n",
       "      <th>latitude</th>\n",
       "      <th>longitude</th>\n",
       "      <th>has_beds</th>\n",
       "      <th>has_baths</th>\n",
       "    </tr>\n",
       "  </thead>\n",
       "  <tbody>\n",
       "    <tr>\n",
       "      <th>703</th>\n",
       "      <td>1900 DANBROOK DR</td>\n",
       "      <td>SACRAMENTO</td>\n",
       "      <td>95835</td>\n",
       "      <td>AC</td>\n",
       "      <td>1</td>\n",
       "      <td>1</td>\n",
       "      <td>984</td>\n",
       "      <td>Condo</td>\n",
       "      <td>Fri May 16 00:00:00 EDT 2008</td>\n",
       "      <td>-210944</td>\n",
       "      <td>38.668433</td>\n",
       "      <td>-121.503471</td>\n",
       "      <td>1</td>\n",
       "      <td>1</td>\n",
       "    </tr>\n",
       "  </tbody>\n",
       "</table>\n",
       "</div>"
      ],
      "text/plain": [
       "               street        city    zip state  beds  baths  sq__ft   type  \\\n",
       "703  1900 DANBROOK DR  SACRAMENTO  95835    AC     1      1     984  Condo   \n",
       "\n",
       "                        sale_date   price   latitude   longitude  has_beds  \\\n",
       "703  Fri May 16 00:00:00 EDT 2008 -210944  38.668433 -121.503471         1   \n",
       "\n",
       "     has_baths  \n",
       "703          1  "
      ]
     },
     "execution_count": 28,
     "metadata": {},
     "output_type": "execute_result"
    }
   ],
   "source": [
    "# query invalid price\n",
    "trans_df[trans_df['price'] < 0]"
   ]
  },
  {
   "cell_type": "code",
   "execution_count": 29,
   "metadata": {},
   "outputs": [],
   "source": [
    "# found only one row, manual fix\n",
    "trans_df.loc[703, 'price'] = 210944"
   ]
  },
  {
   "cell_type": "markdown",
   "metadata": {},
   "source": [
    "#### Price anomalies"
   ]
  },
  {
   "cell_type": "code",
   "execution_count": 31,
   "metadata": {},
   "outputs": [
    {
     "data": {
      "text/html": [
       "<div>\n",
       "<style scoped>\n",
       "    .dataframe tbody tr th:only-of-type {\n",
       "        vertical-align: middle;\n",
       "    }\n",
       "\n",
       "    .dataframe tbody tr th {\n",
       "        vertical-align: top;\n",
       "    }\n",
       "\n",
       "    .dataframe thead th {\n",
       "        text-align: right;\n",
       "    }\n",
       "</style>\n",
       "<table border=\"1\" class=\"dataframe\">\n",
       "  <thead>\n",
       "    <tr style=\"text-align: right;\">\n",
       "      <th></th>\n",
       "      <th>street</th>\n",
       "      <th>city</th>\n",
       "      <th>zip</th>\n",
       "      <th>state</th>\n",
       "      <th>beds</th>\n",
       "      <th>baths</th>\n",
       "      <th>sq__ft</th>\n",
       "      <th>type</th>\n",
       "      <th>sale_date</th>\n",
       "      <th>price</th>\n",
       "      <th>latitude</th>\n",
       "      <th>longitude</th>\n",
       "      <th>has_beds</th>\n",
       "      <th>has_baths</th>\n",
       "    </tr>\n",
       "  </thead>\n",
       "  <tbody>\n",
       "    <tr>\n",
       "      <th>865</th>\n",
       "      <td>3720 VISTA DE MADERA</td>\n",
       "      <td>LINCOLN</td>\n",
       "      <td>95648</td>\n",
       "      <td>CA</td>\n",
       "      <td>3</td>\n",
       "      <td>3</td>\n",
       "      <td>0</td>\n",
       "      <td>Residential</td>\n",
       "      <td>Fri May 16 00:00:00 EDT 2008</td>\n",
       "      <td>1551</td>\n",
       "      <td>38.851645</td>\n",
       "      <td>-121.231742</td>\n",
       "      <td>1</td>\n",
       "      <td>1</td>\n",
       "    </tr>\n",
       "    <tr>\n",
       "      <th>866</th>\n",
       "      <td>14151 INDIO DR</td>\n",
       "      <td>SLOUGHHOUSE</td>\n",
       "      <td>95683</td>\n",
       "      <td>CA</td>\n",
       "      <td>3</td>\n",
       "      <td>4</td>\n",
       "      <td>5822</td>\n",
       "      <td>Residential</td>\n",
       "      <td>Fri May 16 00:00:00 EDT 2008</td>\n",
       "      <td>2000</td>\n",
       "      <td>38.490447</td>\n",
       "      <td>-121.129337</td>\n",
       "      <td>1</td>\n",
       "      <td>1</td>\n",
       "    </tr>\n",
       "    <tr>\n",
       "      <th>580</th>\n",
       "      <td>59 E ST</td>\n",
       "      <td>LINCOLN</td>\n",
       "      <td>95648</td>\n",
       "      <td>CA</td>\n",
       "      <td>3</td>\n",
       "      <td>2</td>\n",
       "      <td>0</td>\n",
       "      <td>Residential</td>\n",
       "      <td>Mon May 19 00:00:00 EDT 2008</td>\n",
       "      <td>4897</td>\n",
       "      <td>38.885794</td>\n",
       "      <td>-121.290281</td>\n",
       "      <td>1</td>\n",
       "      <td>1</td>\n",
       "    </tr>\n",
       "    <tr>\n",
       "      <th>584</th>\n",
       "      <td>386 1ST ST</td>\n",
       "      <td>LINCOLN</td>\n",
       "      <td>95648</td>\n",
       "      <td>CA</td>\n",
       "      <td>0</td>\n",
       "      <td>0</td>\n",
       "      <td>0</td>\n",
       "      <td>Residential</td>\n",
       "      <td>Mon May 19 00:00:00 EDT 2008</td>\n",
       "      <td>4897</td>\n",
       "      <td>38.886528</td>\n",
       "      <td>-121.288869</td>\n",
       "      <td>0</td>\n",
       "      <td>0</td>\n",
       "    </tr>\n",
       "    <tr>\n",
       "      <th>585</th>\n",
       "      <td>374 1ST ST</td>\n",
       "      <td>LINCOLN</td>\n",
       "      <td>95648</td>\n",
       "      <td>CA</td>\n",
       "      <td>0</td>\n",
       "      <td>0</td>\n",
       "      <td>0</td>\n",
       "      <td>Residential</td>\n",
       "      <td>Mon May 19 00:00:00 EDT 2008</td>\n",
       "      <td>4897</td>\n",
       "      <td>38.886525</td>\n",
       "      <td>-121.288787</td>\n",
       "      <td>0</td>\n",
       "      <td>0</td>\n",
       "    </tr>\n",
       "  </tbody>\n",
       "</table>\n",
       "</div>"
      ],
      "text/plain": [
       "                   street         city    zip state  beds  baths  sq__ft  \\\n",
       "865  3720 VISTA DE MADERA      LINCOLN  95648    CA     3      3       0   \n",
       "866        14151 INDIO DR  SLOUGHHOUSE  95683    CA     3      4    5822   \n",
       "580               59 E ST      LINCOLN  95648    CA     3      2       0   \n",
       "584            386 1ST ST      LINCOLN  95648    CA     0      0       0   \n",
       "585            374 1ST ST      LINCOLN  95648    CA     0      0       0   \n",
       "\n",
       "            type                     sale_date  price   latitude   longitude  \\\n",
       "865  Residential  Fri May 16 00:00:00 EDT 2008   1551  38.851645 -121.231742   \n",
       "866  Residential  Fri May 16 00:00:00 EDT 2008   2000  38.490447 -121.129337   \n",
       "580  Residential  Mon May 19 00:00:00 EDT 2008   4897  38.885794 -121.290281   \n",
       "584  Residential  Mon May 19 00:00:00 EDT 2008   4897  38.886528 -121.288869   \n",
       "585  Residential  Mon May 19 00:00:00 EDT 2008   4897  38.886525 -121.288787   \n",
       "\n",
       "     has_beds  has_baths  \n",
       "865         1          1  \n",
       "866         1          1  \n",
       "580         1          1  \n",
       "584         0          0  \n",
       "585         0          0  "
      ]
     },
     "execution_count": 31,
     "metadata": {},
     "output_type": "execute_result"
    }
   ],
   "source": [
    "# review price outlier\n",
    "trans_df.sort_values(by='price').head()"
   ]
  },
  {
   "cell_type": "code",
   "execution_count": 32,
   "metadata": {},
   "outputs": [
    {
     "data": {
      "text/plain": [
       "<Axes: xlabel='price'>"
      ]
     },
     "execution_count": 32,
     "metadata": {},
     "output_type": "execute_result"
    },
    {
     "data": {
      "image/png": "[encoded data removed]",
      "text/plain": [
       "<Figure size 640x480 with 1 Axes>"
      ]
     },
     "metadata": {},
     "output_type": "display_data"
    }
   ],
   "source": [
    "sns.boxplot(x='price', data=trans_df)"
   ]
  },
  {
   "cell_type": "markdown",
   "metadata": {},
   "source": [
    "#### Invalid state code"
   ]
  },
  {
   "cell_type": "code",
   "execution_count": 34,
   "metadata": {},
   "outputs": [
    {
     "data": {
      "text/plain": [
       "array(['CA', 'AC'], dtype=object)"
      ]
     },
     "execution_count": 34,
     "metadata": {},
     "output_type": "execute_result"
    }
   ],
   "source": [
    "# review state code\n",
    "trans_df['state'].unique()"
   ]
  },
  {
   "cell_type": "code",
   "execution_count": 35,
   "metadata": {},
   "outputs": [
    {
     "data": {
      "text/plain": [
       "array(['CA'], dtype=object)"
      ]
     },
     "execution_count": 35,
     "metadata": {},
     "output_type": "execute_result"
    }
   ],
   "source": [
    "# replace 'AC' to 'CA'\n",
    "trans_df['state'] = trans_df['state'].replace('AC', 'CA')\n",
    "trans_df['state'].unique()"
   ]
  },
  {
   "cell_type": "markdown",
   "metadata": {},
   "source": [
    "When you've finished cleaning or have made a good deal of progress cleaning, it's always a good idea to save your work. Use the pandas `to_csv` method to export your cleaned dataset.\n",
    "\n",
    "```python\n",
    "# example -- your dataframe name may be different\n",
    "dataframe.to_csv('./datasets/sacramento_cleaned_dataframe.csv', index=False)\n",
    "\n",
    "```"
   ]
  },
  {
   "cell_type": "code",
   "execution_count": 37,
   "metadata": {},
   "outputs": [],
   "source": [
    "trans_df.to_csv('./datasets/sacramento_cleaned_dataframe.csv', index=False)"
   ]
  },
  {
   "cell_type": "markdown",
   "metadata": {},
   "source": [
    "### 3. Our goal will be to predict price. List variables that you think qualify as predictors of price in an SLR (Simple Linear Regression) model.\n",
    "\n",
    "For each of the variables you believe should be considered, generate a plot showing the relationship between the independent and dependent variables."
   ]
  },
  {
   "cell_type": "code",
   "execution_count": 39,
   "metadata": {},
   "outputs": [
    {
     "data": {
      "text/plain": [
       "street        object\n",
       "city          object\n",
       "zip            int64\n",
       "state         object\n",
       "beds           int64\n",
       "baths          int64\n",
       "sq__ft         int64\n",
       "type          object\n",
       "sale_date     object\n",
       "price          int64\n",
       "latitude     float64\n",
       "longitude    float64\n",
       "has_beds       int32\n",
       "has_baths      int32\n",
       "dtype: object"
      ]
     },
     "execution_count": 39,
     "metadata": {},
     "output_type": "execute_result"
    }
   ],
   "source": [
    "# Choose variables with a number to calculate correlation\n",
    "trans_df.dtypes"
   ]
  },
  {
   "cell_type": "code",
   "execution_count": null,
   "metadata": {},
   "outputs": [],
   "source": [
    "# Plot a compare of variables correlation\n",
    "sns.heatmap(trans_df[['zip', 'beds','baths', 'sq__ft', 'price']].corr(), cmap='coolwarm', annot=True);"
   ]
  },
  {
   "cell_type": "markdown",
   "metadata": {},
   "source": [
    "### 4. Which variable would be the best predictor of `y` in an SLR (Simple Linear Regression) model? Why?"
   ]
  },
  {
   "cell_type": "code",
   "execution_count": null,
   "metadata": {},
   "outputs": [],
   "source": [
    "# select columns with have high correlation with 'price' are\n",
    "# - beds\n",
    "# - baths\n",
    "# - sq__ft\n",
    "\n",
    "features = ['beds', 'baths', 'sq__ft']\n",
    "X = trans_df[features]\n",
    "y = trans_df['price']"
   ]
  },
  {
   "cell_type": "markdown",
   "metadata": {},
   "source": [
    "### 5. Write a function that will take in two lists, `x` and `y`, and returns the intercept and slope coefficients that minimize SSE (Sum of Squared Errors). \n",
    "\n",
    "`y` is the target variable, and `x` is the predictor variable.\n",
    "\n",
    "**Don't use scikit-learn for this**. Instead, use numpy and scipy.\n",
    "\n",
    "The slope and intercept of simple linear regression can be calculated by using certain summary statistics. In particular, we'll need to know:\n",
    "\n",
    "- $\\bar{x}$, the mean of `x`\n",
    "- $\\bar{y}$, the mean of `y`\n",
    "- $s_{x}$, the standard deviation of `x`\n",
    "- $s_{y}$, the standard deviation of `y`\n",
    "- $r_{xy}$, the correlation of `x` and `y`\n",
    "\n",
    "Given these summary statistics, the **coefficient on `X`** (or the slope) can be given by $\\beta_{1} = r_{xy} * \\frac{s_{y}}{s_{x}}$. The **intercept of the model** can be given by $\\beta_{0} = \\bar{y} - \\beta_{1}\\bar{x}$.\n",
    "\n",
    "Your function should take in `x` and `y`, then use the above summary statistics to calculate the slope and intercept.\n",
    "\n",
    "- **Test your function on price and the variable you determined was the best predictor in Question #4.**\n",
    "- **Report the slope and intercept.**"
   ]
  },
  {
   "cell_type": "code",
   "execution_count": null,
   "metadata": {},
   "outputs": [],
   "source": [
    "import scipy\n",
    "\n",
    "# implement linear regression in numpy\n",
    "# beta0 intercept\n",
    "# beta1 coefficient\n",
    "\n",
    "def linear_regression(x, y):\n",
    "    beta1 = (scipy.stats.pearsonr(x,y)[0] * np.std(y) / np.std(x))\n",
    "    beta0 = np.mean(y) - (beta1*np.mean(x))\n",
    "    return beta0, beta1"
   ]
  },
  {
   "cell_type": "code",
   "execution_count": null,
   "metadata": {},
   "outputs": [],
   "source": [
    "# get result for each potential feature\n",
    "for feature in features:\n",
    "    beta0, beta1 = linear_regression(X[feature], y)\n",
    "    #sse = \n",
    "    print(f\"Coefficient on X({feature}) = {beta1:,.4f}, intercept = {beta0:,.4f}\")"
   ]
  },
  {
   "cell_type": "markdown",
   "metadata": {},
   "source": [
    "### 6. Now interpret the intercept and the slope."
   ]
  },
  {
   "cell_type": "markdown",
   "metadata": {},
   "source": [
    "The model return two values are `beta0` and `beta1`\n",
    "\n",
    " * `beta0` is the y-**intercept** that our model learns. The point where the line crosses the y-axis.\n",
    " * `beta1` is the coefficient that we multiply by variable  `x`. It' the **slope**.. For every 1 unit i change in `x`\r\n",
    ", y increases by the value  `beta1`\r\n",
    "."
   ]
  },
  {
   "cell_type": "markdown",
   "metadata": {},
   "source": [
    "### 7. Give an example of how this model could be used for prediction and how it could be used for inference. \n",
    "\n",
    "**Be sure to make it clear which example is associated with prediction and which is associated with inference.**"
   ]
  },
  {
   "cell_type": "code",
   "execution_count": null,
   "metadata": {},
   "outputs": [],
   "source": [
    "# y = beta0 + beta1 * x\n",
    "\n",
    "beta0, beta1 = linear_regression(X['sq__ft'], y)\n",
    "\n",
    "test_sq_ft = 1039\n",
    "\n",
    "predict_price = beta0 + beta1 * test_sq_ft\n",
    "\n",
    "print(f\"Predict price of {test_sq_ft:,} sq.ft. is {predict_price:,.2f}\")"
   ]
  },
  {
   "cell_type": "markdown",
   "metadata": {},
   "source": [
    "### 8: Using the model you came up with in Question #5, calculate and plot the residuals."
   ]
  },
  {
   "cell_type": "code",
   "execution_count": null,
   "metadata": {
    "scrolled": true
   },
   "outputs": [],
   "source": [
    "# y_pred = beta0 + beta1 * x\n",
    "# convert DataFrame to a np.ndarray\n",
    "x = trans_df['sq__ft'].values\n",
    "\n",
    "# calculate prediction value\n",
    "trans_df['prediction'] = beta0 + beta1 * x\n",
    "\n",
    "# calculate residuals\n",
    "trans_df['residuals'] = trans_df['price'] - trans_df['prediction']\n",
    "\n",
    "sns.lmplot(x='price', y='residuals', data=trans_df)\n",
    "plt.title('Residual Plot');"
   ]
  },
  {
   "cell_type": "markdown",
   "metadata": {},
   "source": [
    "---\n",
    "\n",
    "## Dummy Variables\n",
    "\n",
    "It is important to be cautious with categorical variables, which represent distinct groups or categories, when building a regression. If put in a regression \"as-is,\" categorical variables represented as integers will be treated like *continuous* variables.\n",
    "\n",
    "That is to say, instead of group \"3\" having a different effect on the estimation than group \"1\" it will estimate literally 3 times more than group 1. \n",
    "\n",
    "For example, if occupation category \"1\" represents \"analyst\" and occupation category \"3\" represents \"barista\", and our target variable is salary, if we leave this as a column of integers then barista will always have `beta*3` the effect of analyst.\n",
    "\n",
    "This will almost certainly force the beta coefficient to be something strange and incorrect. Instead, we can re-represent the categories as multiple \"dummy coded\" columns.\n",
    "\n"
   ]
  },
  {
   "cell_type": "markdown",
   "metadata": {},
   "source": [
    "#### A Word of Caution When Creating Dummies\n",
    "\n",
    "Let's touch on precautions we should take when dummy coding.\n",
    "\n",
    "**If you convert a qualitative variable to dummy variables, you want to turn a variable with N categories into N-1 variables.**\n",
    "\n",
    "> **Scenario 1:** Suppose we're working with the variable \"sex\" or \"gender\" with values \"M\" and \"F\". \n",
    "\n",
    "You should include in your model only one variable for \"sex = F\" which takes on 1 if sex is female and 0 if sex is not female! Rather than saying \"a one unit change in X,\" the coefficient associated with \"sex = F\" is interpreted as the average change in Y when sex = F relative to when sex = M.\n",
    "\n",
    "| Female | Male | \n",
    "|-------|------|\n",
    "| 0 | 1 | \n",
    "| 1 | 0 |\n",
    "| 0 | 1 |\n",
    "| 1 | 0 |\n",
    "| 1 | 0 |\n",
    "_As we can see a 1 in the female column indicates a 0 in the male column. And so, we have two columns stating the same information in different ways._\n",
    "\n",
    "> Scenario 2: Suppose we're modeling revenue at a bar for each of the days of the week. We have a column with strings identifying which day of the week this observation occurred in.\n",
    "\n",
    "We might include six of the days as their own variables: \"Monday\", \"Tuesday\", \"Wednesday\", \"Thursday\", \"Friday\", \"Saturday\". **But not all 7 days.**  \n",
    "\n",
    "|Monday | Tuesday | Wednesday | Thursday | Friday | Saturday | \n",
    "|-------|---------|-----------|----------|--------|----------|\n",
    "| 1     | 0       |0          |      0   |0       | 0        | \n",
    "| 0     | 1       |0          |      0   |0       | 0        | \n",
    "| 0     | 0       |1          |      0   |0       | 0        | \n",
    "| 0     | 0       |0          |      1   |0       | 0        | \n",
    "| 0     | 0       |0          |      0   |1       | 0        | \n",
    "| 0     | 0       |0          |      0   |0       | 1        | \n",
    "| 0     | 0       |0          |      0   |0       | 0        | \n",
    "\n",
    "_As humans we can infer from the last row that if its is not Monday, Tuesday, Wednesday, Thursday, Friday or Saturday, it must be Sunday. Models work the same way._\n",
    "\n",
    "The coefficient for Monday is then interpreted as the average change in revenue when \"day = Monday\" relative to \"day = Sunday.\" The coefficient for Tuesday is interpreted as the average change in revenue when \"day = Tuesday\" relative to \"day = Sunday\" and so on.\n",
    "\n",
    "The category you leave out, which the other columns are *relative to*, is often referred to as the **reference category**.\n",
    "\n",
    "### 9. Use the `pd.get_dummies` function to convert the `type` column into dummy-coded variables."
   ]
  },
  {
   "cell_type": "code",
   "execution_count": null,
   "metadata": {},
   "outputs": [],
   "source": [
    "# Convert the type column into dummy-coded variables\n",
    "type_df = pd.get_dummies(trans_df, columns=['type'], drop_first=True)"
   ]
  },
  {
   "cell_type": "code",
   "execution_count": null,
   "metadata": {},
   "outputs": [],
   "source": [
    "# review data types\n",
    "type_df.dtypes"
   ]
  },
  {
   "cell_type": "markdown",
   "metadata": {},
   "source": [
    "### 10. Check the dummy columns you've created. Do they all make sense?\n",
    "\n",
    "Use `.head()` on the new dataframe you've created. Depending on how you cleaned the data earlier in this notebook, there may be a dummy column that needs to be removed. Check that all the columns you've created make sense, and if any of the columns seem to be errors, drop them. If there don't appear to be any errors, then move on to the next step!"
   ]
  },
  {
   "cell_type": "code",
   "execution_count": null,
   "metadata": {},
   "outputs": [],
   "source": [
    "type_df.head(3)"
   ]
  },
  {
   "cell_type": "markdown",
   "metadata": {},
   "source": [
    "### 11. Build what you think may be the best MLR (Multiple Linear Regression) model predicting `price`. \n",
    "\n",
    "Choose at least three variables, and build a model that uses them to predict price. At least one of the variables you choose should be a dummy-coded variable. (This can be one we created before or a new one.) \n",
    "\n",
    "You may need to load in the scikit-learn API:\n",
    "\n",
    "```python\n",
    "from sklearn.linear_model import LinearRegression\n",
    "\n",
    "model = LinearRegression()\n",
    "```"
   ]
  },
  {
   "cell_type": "code",
   "execution_count": null,
   "metadata": {},
   "outputs": [],
   "source": [
    "from sklearn.linear_model import LinearRegression\n",
    "\n",
    "features = ['beds', 'baths', 'sq__ft', 'type_Multi-Family', 'type_Residential']\n",
    "X = type_df[features]\n",
    "y = type_df['price']\n",
    "\n",
    "model = LinearRegression()\n",
    "\n",
    "X = type_df[features]\n",
    "model.fit(X, y)"
   ]
  },
  {
   "cell_type": "code",
   "execution_count": null,
   "metadata": {},
   "outputs": [],
   "source": [
    "type_df['prediction'] = model.predict(X)"
   ]
  },
  {
   "cell_type": "markdown",
   "metadata": {},
   "source": [
    "### 12. Plot the true price vs the predicted price to evaluate your MLR (Multiple Linear Regression) visually.\n",
    "\n",
    "You can use matplotlib or seaborn."
   ]
  },
  {
   "cell_type": "code",
   "execution_count": null,
   "metadata": {},
   "outputs": [],
   "source": [
    "sns.lmplot(x='price', y='prediction', data=type_df)\n",
    "plt.title('Real Price vs Prediction Price');"
   ]
  },
  {
   "cell_type": "markdown",
   "metadata": {},
   "source": [
    "### 13. List the five assumptions for an MLR (Multiple Linear Regression) model. \n",
    "\n",
    "Indicate which ones are the same as the assumptions for an SLR model. "
   ]
  },
  {
   "cell_type": "markdown",
   "metadata": {},
   "source": [
    "##### Same as SLR\n",
    "- L - Linear relationship\n",
    "- I - Independent errors\n",
    "- N - Normally distributed errors\n",
    "- E - Equal variance of errors (homoscedasticity)\n",
    "##### Only for MLR\n",
    "- M - No Multicollinearity/Independence of Predictors"
   ]
  },
  {
   "cell_type": "markdown",
   "metadata": {},
   "source": [
    "### 14. Pick at least two assumptions and explain whether or not you believe them to be met for your model, and explain why."
   ]
  },
  {
   "cell_type": "markdown",
   "metadata": {},
   "source": [
    "I chose these three:\n"
   ]
  },
  {
   "cell_type": "code",
   "execution_count": null,
   "metadata": {},
   "outputs": [],
   "source": [
    "# 1. L - Linear relationship\n",
    "sns.scatterplot(x='sq__ft', y='price', data=type_df);"
   ]
  },
  {
   "cell_type": "code",
   "execution_count": null,
   "metadata": {},
   "outputs": [],
   "source": [
    "# 2. E - Equal variance of errors\n",
    "\n",
    "sns.scatterplot(x='prediction', y='residuals', data=type_df)\n",
    "type_df['residuals'] = type_df['prediction'] - type_df['price']\n",
    "avg_residuals = np.mean(type_df['residuals'])\n",
    "plt.axhline(avg_residuals, color='red', label=f'Average: {avg_residuals:.2f}')\n",
    "plt.title('Variance of Errors');"
   ]
  },
  {
   "cell_type": "code",
   "execution_count": null,
   "metadata": {},
   "outputs": [],
   "source": []
  },
  {
   "cell_type": "markdown",
   "metadata": {},
   "source": [
    "### 15. [Bonus] Generate a table showing the point estimates, standard errors, t-scores, p-values, and 95% confidence intervals for the model you built. \n",
    "\n",
    "**Write a few sentences interpreting some of the output.**\n",
    "\n",
    "> **Hint:** scikit-learn does not have this functionality built in, but statsmodels does in the `summary` method.  To fit the statsmodels model use something like the following.  There is one big caveat here, however!  `statsmodels.OLS` does _not_ add an intercept to your model, so you will need to do this explicitly by adding a column filled with the number 1 to your X matrix\n",
    "\n",
    "```python\n",
    "import statsmodels.api as sm\n",
    "\n",
    "# The Default here is Linear Regression (ordinary least squares regression OLS)\n",
    "model = sm.OLS(y,X).fit()\n",
    "```"
   ]
  },
  {
   "cell_type": "code",
   "execution_count": null,
   "metadata": {},
   "outputs": [],
   "source": [
    "import statsmodels.api as sm\n",
    "model = sm.OLS(type_df['price'], type_df['sq__ft']).fit()"
   ]
  },
  {
   "cell_type": "code",
   "execution_count": null,
   "metadata": {},
   "outputs": [],
   "source": [
    "# show summary table\n",
    "\n",
    "model.summary()"
   ]
  },
  {
   "cell_type": "markdown",
   "metadata": {},
   "source": [
    "### 16. Regression Metrics\n",
    "\n",
    "Implement a function called `r2_adj()` that will calculate $R^2_{adj}$ for a model. "
   ]
  },
  {
   "cell_type": "code",
   "execution_count": null,
   "metadata": {},
   "outputs": [],
   "source": [
    "# formular is Adjusted R2 = 1 – [(1-R2)*(n-1)/(n-k-1)]\n",
    "# R2: R2 of the model\n",
    "# n: number of sample\n",
    "# k: number of features\n",
    "def r2_adj(y_true, y_pred, features):\n",
    "    num_features = len(features)\n",
    "    n = len(y_true)\n",
    "    sum_res = np.sum(y_true - y_pred**2)\n",
    "    y_mean = np.mean(y_true)\n",
    "    sum_total = np.sum((y_true - y_mean)**2)\n",
    "    r2 = 1 - (sum_res / sum_total)\n",
    "    r2_adj = 1 - (1 - r2) * (n - 1) / (n - num_features - 1)\n",
    "    return r2_adj\n",
    "\n",
    "value = r2_adj(type_df['price'], type_df['prediction'], features)\n",
    "print(f\"Value of R2 adjusted is: {value:.4f}\")"
   ]
  },
  {
   "cell_type": "markdown",
   "metadata": {},
   "source": [
    "### 17. Metrics, metrics, everywhere...\n",
    "\n",
    "Calculate and interpret at least three regression metrics. How well does your model perform?"
   ]
  },
  {
   "cell_type": "code",
   "execution_count": null,
   "metadata": {},
   "outputs": [],
   "source": [
    "def calculate_regression_metrics(y_true, y_pred, features):\n",
    "    mse = np.mean((y_true - y_pred)**2)\n",
    "    rmse = np.sqrt(mse)\n",
    "    r2a = r2_adj(y_true, y_pred, features)\n",
    "    \n",
    "    print(f\"MSE: {mse:,.4f}, RMSE: {rmse:,.4f}, R-squared: {r2a:,.4f}\")\n",
    "\n",
    "calculate_regression_metrics(trans_df['price'], trans_df['prediction'], features)"
   ]
  },
  {
   "cell_type": "markdown",
   "metadata": {},
   "source": [
    "### 18. Model Iteration\n",
    "\n",
    "Adjust your model by adding or removing a variable. Then calculate the same regression metrics as you used in question 17. Has your model performance increased or decreased?"
   ]
  },
  {
   "cell_type": "code",
   "execution_count": null,
   "metadata": {},
   "outputs": [],
   "source": [
    "# add has_beds and has_baths to features and run fit\n",
    "\n",
    "features = ['beds', 'baths', 'sq__ft', 'type_Multi-Family', 'type_Residential', 'has_beds', 'has_baths']\n",
    "X = type_df[features]\n",
    "y = type_df['price']\n",
    "\n",
    "model = LinearRegression()\n",
    "\n",
    "X = type_df[features]\n",
    "model.fit(X, y)\n",
    "\n",
    "# run predict\n",
    "type_df['predition_new'] = model.predict(X)\n",
    "\n",
    "# compare metrics\n",
    "calculate_regression_metrics(type_df['price'], type_df['predition_new'], features)"
   ]
  },
  {
   "cell_type": "markdown",
   "metadata": {},
   "source": [
    "After adding features `has_beds` and `has_baths`, both MSE and RMSE reduce, so the new model improves accuracy"
   ]
  },
  {
   "cell_type": "markdown",
   "metadata": {},
   "source": [
    "### 19. Bias vs. Variance\n",
    "\n",
    "_(To be completed after the bias-variance tradeoff lecture.)_ At this point, do you think your model is high bias, high variance or in the sweet spot?"
   ]
  },
  {
   "cell_type": "markdown",
   "metadata": {},
   "source": [
    "Since the data is small (~1k rows) and linear regression is more prone to variance than bias and MSE and RMSE are very high, I believe the model is prone to **variance**."
   ]
  }
 ],
 "metadata": {
  "anaconda-cloud": {},
  "kernelspec": {
   "display_name": "Python 3 (ipykernel)",
   "language": "python",
   "name": "python3"
  },
  "language_info": {
   "codemirror_mode": {
    "name": "ipython",
    "version": 3
   },
   "file_extension": ".py",
   "mimetype": "text/x-python",
   "name": "python",
   "nbconvert_exporter": "python",
   "pygments_lexer": "ipython3",
   "version": "3.12.4"
  }
 },
 "nbformat": 4,
 "nbformat_minor": 4
}
